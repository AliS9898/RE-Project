{
 "nbformat": 4,
 "nbformat_minor": 0,
 "metadata": {
  "colab": {
   "name": "summarization.ipynb",
   "provenance": [],
   "collapsed_sections": []
  },
  "kernelspec": {
   "name": "python3",
   "display_name": "Python 3"
  },
  "accelerator": "GPU"
 },
 "cells": [
  {
   "cell_type": "markdown",
   "metadata": {
    "id": "d7F24wi-bXEG"
   },
   "source": [
    "# Pre-trained RE-BERT Model"
   ]
  },
  {
   "cell_type": "code",
   "source": [
    "from google.colab import drive\n",
    "drive.mount('/content/drive')"
   ],
   "metadata": {
    "colab": {
     "base_uri": "https://localhost:8080/"
    },
    "id": "qLfzP2BXrlvS",
    "outputId": "01e58f92-601d-4c6e-df75-bacda1ed2012"
   },
   "execution_count": null,
   "outputs": [
    {
     "output_type": "stream",
     "name": "stdout",
     "text": [
      "Mounted at /content/drive\n"
     ]
    }
   ]
  },
  {
   "cell_type": "markdown",
   "metadata": {
    "id": "qB-cgVUUSmNl"
   },
   "source": [
    "# Build"
   ]
  },
  {
   "cell_type": "code",
   "metadata": {
    "id": "YBmt7OX0PSix",
    "colab": {
     "base_uri": "https://localhost:8080/"
    },
    "outputId": "7f6a4761-9be8-4fc6-efb0-99b173655639"
   },
   "source": [
    "!git clone https://github.com/adailtonaraujo/RE-BERT\n",
    "!mv RE-BERT/* .\n",
    "!pip install -r requirements.txt"
   ],
   "execution_count": null,
   "outputs": [
    {
     "output_type": "stream",
     "name": "stdout",
     "text": [
      "Cloning into 'RE-BERT'...\n",
      "remote: Enumerating objects: 106, done.\u001B[K\n",
      "remote: Counting objects: 100% (106/106), done.\u001B[K\n",
      "remote: Compressing objects: 100% (89/89), done.\u001B[K\n",
      "remote: Total 106 (delta 40), reused 57 (delta 15), pack-reused 0\u001B[K\n",
      "Receiving objects: 100% (106/106), 1.87 MiB | 1.56 MiB/s, done.\n",
      "Resolving deltas: 100% (40/40), done.\n",
      "Requirement already satisfied: numpy>=1.13.3 in /usr/local/lib/python3.7/dist-packages (from -r requirements.txt (line 1)) (1.21.5)\n",
      "Requirement already satisfied: torch>=0.4.0 in /usr/local/lib/python3.7/dist-packages (from -r requirements.txt (line 2)) (1.10.0+cu111)\n",
      "Collecting transformers==2.3.0\n",
      "  Downloading transformers-2.3.0-py3-none-any.whl (447 kB)\n",
      "\u001B[K     |████████████████████████████████| 447 kB 12.0 MB/s \n",
      "\u001B[?25hRequirement already satisfied: sklearn in /usr/local/lib/python3.7/dist-packages (from -r requirements.txt (line 4)) (0.0)\n",
      "Collecting sacremoses\n",
      "  Downloading sacremoses-0.0.47-py2.py3-none-any.whl (895 kB)\n",
      "\u001B[K     |████████████████████████████████| 895 kB 44.4 MB/s \n",
      "\u001B[?25hRequirement already satisfied: regex!=2019.12.17 in /usr/local/lib/python3.7/dist-packages (from transformers==2.3.0->-r requirements.txt (line 3)) (2019.12.20)\n",
      "Requirement already satisfied: requests in /usr/local/lib/python3.7/dist-packages (from transformers==2.3.0->-r requirements.txt (line 3)) (2.23.0)\n",
      "Collecting sentencepiece\n",
      "  Downloading sentencepiece-0.1.96-cp37-cp37m-manylinux_2_17_x86_64.manylinux2014_x86_64.whl (1.2 MB)\n",
      "\u001B[K     |████████████████████████████████| 1.2 MB 45.6 MB/s \n",
      "\u001B[?25hRequirement already satisfied: tqdm in /usr/local/lib/python3.7/dist-packages (from transformers==2.3.0->-r requirements.txt (line 3)) (4.62.3)\n",
      "Collecting boto3\n",
      "  Downloading boto3-1.21.3-py3-none-any.whl (132 kB)\n",
      "\u001B[K     |████████████████████████████████| 132 kB 46.3 MB/s \n",
      "\u001B[?25hRequirement already satisfied: typing-extensions in /usr/local/lib/python3.7/dist-packages (from torch>=0.4.0->-r requirements.txt (line 2)) (3.10.0.2)\n",
      "Requirement already satisfied: scikit-learn in /usr/local/lib/python3.7/dist-packages (from sklearn->-r requirements.txt (line 4)) (1.0.2)\n",
      "Requirement already satisfied: botocore<1.25.0,>=1.24.3 in /usr/local/lib/python3.7/dist-packages (from boto3->transformers==2.3.0->-r requirements.txt (line 3)) (1.24.3)\n",
      "Collecting s3transfer<0.6.0,>=0.5.0\n",
      "  Downloading s3transfer-0.5.1-py3-none-any.whl (79 kB)\n",
      "\u001B[K     |████████████████████████████████| 79 kB 8.8 MB/s \n",
      "\u001B[?25hRequirement already satisfied: jmespath<1.0.0,>=0.7.1 in /usr/local/lib/python3.7/dist-packages (from boto3->transformers==2.3.0->-r requirements.txt (line 3)) (0.10.0)\n",
      "Requirement already satisfied: urllib3<1.27,>=1.25.4 in /usr/local/lib/python3.7/dist-packages (from botocore<1.25.0,>=1.24.3->boto3->transformers==2.3.0->-r requirements.txt (line 3)) (1.26.8)\n",
      "Requirement already satisfied: python-dateutil<3.0.0,>=2.1 in /usr/local/lib/python3.7/dist-packages (from botocore<1.25.0,>=1.24.3->boto3->transformers==2.3.0->-r requirements.txt (line 3)) (2.8.2)\n",
      "Requirement already satisfied: six>=1.5 in /usr/local/lib/python3.7/dist-packages (from python-dateutil<3.0.0,>=2.1->botocore<1.25.0,>=1.24.3->boto3->transformers==2.3.0->-r requirements.txt (line 3)) (1.15.0)\n",
      "Requirement already satisfied: idna<3,>=2.5 in /usr/local/lib/python3.7/dist-packages (from requests->transformers==2.3.0->-r requirements.txt (line 3)) (2.10)\n",
      "Collecting urllib3<1.27,>=1.25.4\n",
      "  Downloading urllib3-1.25.11-py2.py3-none-any.whl (127 kB)\n",
      "\u001B[K     |████████████████████████████████| 127 kB 52.5 MB/s \n",
      "\u001B[?25hRequirement already satisfied: certifi>=2017.4.17 in /usr/local/lib/python3.7/dist-packages (from requests->transformers==2.3.0->-r requirements.txt (line 3)) (2021.10.8)\n",
      "Requirement already satisfied: chardet<4,>=3.0.2 in /usr/local/lib/python3.7/dist-packages (from requests->transformers==2.3.0->-r requirements.txt (line 3)) (3.0.4)\n",
      "Requirement already satisfied: joblib in /usr/local/lib/python3.7/dist-packages (from sacremoses->transformers==2.3.0->-r requirements.txt (line 3)) (1.1.0)\n",
      "Requirement already satisfied: click in /usr/local/lib/python3.7/dist-packages (from sacremoses->transformers==2.3.0->-r requirements.txt (line 3)) (7.1.2)\n",
      "Requirement already satisfied: threadpoolctl>=2.0.0 in /usr/local/lib/python3.7/dist-packages (from scikit-learn->sklearn->-r requirements.txt (line 4)) (3.1.0)\n",
      "Requirement already satisfied: scipy>=1.1.0 in /usr/local/lib/python3.7/dist-packages (from scikit-learn->sklearn->-r requirements.txt (line 4)) (1.4.1)\n",
      "Installing collected packages: urllib3, s3transfer, sentencepiece, sacremoses, boto3, transformers\n",
      "  Attempting uninstall: urllib3\n",
      "    Found existing installation: urllib3 1.26.8\n",
      "    Uninstalling urllib3-1.26.8:\n",
      "      Successfully uninstalled urllib3-1.26.8\n",
      "\u001B[31mERROR: pip's dependency resolver does not currently take into account all the packages that are installed. This behaviour is the source of the following dependency conflicts.\n",
      "datascience 0.10.6 requires folium==0.2.1, but you have folium 0.8.3 which is incompatible.\u001B[0m\n",
      "Successfully installed boto3-1.21.3 s3transfer-0.5.1 sacremoses-0.0.47 sentencepiece-0.1.96 transformers-2.3.0 urllib3-1.25.11\n"
     ]
    }
   ]
  },
  {
   "cell_type": "markdown",
   "metadata": {
    "id": "c27WbNtJaL6_"
   },
   "source": [
    "# Loading RE-BERT Model"
   ]
  },
  {
   "cell_type": "code",
   "source": [
    "!pip install --upgrade botocore\n",
    "!pip install --upgrade urllib3"
   ],
   "metadata": {
    "colab": {
     "base_uri": "https://localhost:8080/"
    },
    "id": "9vPEMjwrtIr-",
    "outputId": "a8898f56-cc53-409a-fd49-7b4ab3358aac"
   },
   "execution_count": null,
   "outputs": [
    {
     "output_type": "stream",
     "name": "stdout",
     "text": [
      "Collecting botocore\n",
      "  Downloading botocore-1.24.3-py3-none-any.whl (8.5 MB)\n",
      "\u001B[K     |████████████████████████████████| 8.5 MB 11.5 MB/s \n",
      "\u001B[?25hCollecting jmespath<1.0.0,>=0.7.1\n",
      "  Downloading jmespath-0.10.0-py2.py3-none-any.whl (24 kB)\n",
      "Collecting urllib3<1.27,>=1.25.4\n",
      "  Downloading urllib3-1.26.8-py2.py3-none-any.whl (138 kB)\n",
      "\u001B[K     |████████████████████████████████| 138 kB 50.5 MB/s \n",
      "\u001B[?25hRequirement already satisfied: python-dateutil<3.0.0,>=2.1 in /usr/local/lib/python3.7/dist-packages (from botocore) (2.8.2)\n",
      "Requirement already satisfied: six>=1.5 in /usr/local/lib/python3.7/dist-packages (from python-dateutil<3.0.0,>=2.1->botocore) (1.15.0)\n",
      "Installing collected packages: urllib3, jmespath, botocore\n",
      "  Attempting uninstall: urllib3\n",
      "    Found existing installation: urllib3 1.24.3\n",
      "    Uninstalling urllib3-1.24.3:\n",
      "      Successfully uninstalled urllib3-1.24.3\n",
      "\u001B[31mERROR: pip's dependency resolver does not currently take into account all the packages that are installed. This behaviour is the source of the following dependency conflicts.\n",
      "requests 2.23.0 requires urllib3!=1.25.0,!=1.25.1,<1.26,>=1.21.1, but you have urllib3 1.26.8 which is incompatible.\n",
      "datascience 0.10.6 requires folium==0.2.1, but you have folium 0.8.3 which is incompatible.\u001B[0m\n",
      "Successfully installed botocore-1.24.3 jmespath-0.10.0 urllib3-1.26.8\n",
      "Requirement already satisfied: urllib3 in /usr/local/lib/python3.7/dist-packages (1.26.8)\n"
     ]
    }
   ]
  },
  {
   "cell_type": "code",
   "metadata": {
    "id": "Wam3PqGvVzpt",
    "colab": {
     "base_uri": "https://localhost:8080/"
    },
    "outputId": "0d75ccb4-0545-4e45-9a3f-fbedbb5c1af4"
   },
   "source": [
    "\n",
    "from re_bert_demo import re_bert_model\n",
    "from re_bert_demo import extract\n",
    "import numpy as np\n",
    "\n",
    "options = ['--classifier_model_file','/content/drive/MyDrive/demo_api_8apps_v1.model']\n",
    "re_model = re_bert_model(options)"
   ],
   "execution_count": null,
   "outputs": [
    {
     "output_type": "stream",
     "name": "stdout",
     "text": [
      "[nltk_data] Downloading package punkt to /root/nltk_data...\n",
      "[nltk_data]   Unzipping tokenizers/punkt.zip.\n",
      "loading model RE_BERT ...\n"
     ]
    }
   ]
  },
  {
   "cell_type": "markdown",
   "source": [
    "# Keywords\n"
   ],
   "metadata": {
    "id": "2jmBmg_13HwF"
   }
  },
  {
   "cell_type": "code",
   "source": [
    "from re_bert_demo import re_bert_model\n",
    "from re_bert_demo import extract\n",
    "import numpy as np\n",
    "\n",
    "\n",
    "topics = np.load('/content/drive/MyDrive/segments.npy', allow_pickle=True)\n",
    "\n",
    "summarized_all = []\n",
    "\n",
    "for item in topics:\n",
    "  print(\"read topic: {}\".format(item['topic_name']))\n",
    "  repr_topic = item['repr']\n",
    "  summarized_array = []\n",
    "  for repr_review in repr_topic:\n",
    "    #print(\"\\tread review: {}\".format(repr_review))\n",
    "    predictions,requirements_extracted = extract(re_model, repr_review)\n",
    "    #print(\"\\t\\tpredictions = {}, \\n\\t\\trequirements_extracted = {}\".format(predictions, requirements_extracted))\n",
    "    for item2 in predictions:\n",
    "      sentence = item2[0]\n",
    "      software_requirements = item2[1]\n",
    "      iob_classification = item2[2]\n",
    "      iob_inside = list(filter(lambda item3: item3[1]['iob'] == 1, iob_classification))\n",
    "      #most_confidence = list(map(lambda item2: max(item2[1]['confidences']), iob_classification))\n",
    "      #confident = list(filter(lambda item3:item3 > 0.7, most_confidence))\n",
    "      #print('\\t\\tSentence:',sentence)\n",
    "      #print('\\t\\t\\tSoftware Requirements Tokens:',software_requirements)\n",
    "      #print('\\t\\t\\tIOB:',iob_classification)\n",
    "      if len(iob_inside) > 1:\n",
    "        summarized_array.append(sentence)\n",
    "  print('\\ttext = {}'.format('. '.join(repr_topic)))\n",
    "  if len(summarized_array):\n",
    "    print('\\tsummarized = {}'.format('. '.join(summarized_array)))\n",
    "    summarized_all.append({'topic_name': item['topic_name'], 'summary': summarized_array})\n",
    "  else:\n",
    "    print('\\tomitted')\n",
    "\n",
    "np.save('sample_data/summarized.npy', np.array(summarized_all))\n",
    "\n"
   ],
   "metadata": {
    "colab": {
     "base_uri": "https://localhost:8080/"
    },
    "id": "FV4ORhkm5LJb",
    "outputId": "41373a89-e070-4741-9ee8-50ce7ec045d3"
   },
   "execution_count": null,
   "outputs": [
    {
     "output_type": "stream",
     "name": "stdout",
     "text": [
      "read topic: -1_that_the_see_is\n"
     ]
    },
    {
     "output_type": "stream",
     "name": "stderr",
     "text": [
      "Extract software requirements candidates: 100%|██████████| 1/1 [00:00<00:00,  6.39it/s]\n",
      "Extract software requirements candidates: 100%|██████████| 1/1 [00:00<00:00,  3.16it/s]\n",
      "Extract software requirements candidates: 100%|██████████| 1/1 [00:00<00:00,  3.68it/s]\n"
     ]
    },
    {
     "output_type": "stream",
     "name": "stdout",
     "text": [
      "\ttext = Okay sure. I’m not sure. I’m not sure\n",
      "\tomitted\n",
      "read topic: 1_saved_save_form_it\n"
     ]
    },
    {
     "output_type": "stream",
     "name": "stderr",
     "text": [
      "Extract software requirements candidates: 100%|██████████| 4/4 [00:02<00:00,  1.47it/s]\n",
      "Extract software requirements candidates: 100%|██████████| 4/4 [00:02<00:00,  1.89it/s]\n",
      "Extract software requirements candidates: 100%|██████████| 1/1 [00:00<00:00,  1.17it/s]\n"
     ]
    },
    {
     "output_type": "stream",
     "name": "stdout",
     "text": [
      "\ttext = Okay. and then how do I know if it’s saved tho? Or I just save it and then when people look through they see it. I though that like if I save it it would like be like ta-da the end and the form was saved. But that doesn’t make sense. I’ve wanted to save just one form but it changed now three duplicated forms saved. This should be change. The form should have been saved just one time. Oops so if I save it like three times it would be like boom boom boom\n",
      "\tsummarized = Or I just save it and then when people look through they see it.. The form should have been saved just one time. Oops so if I save it like three times it would be like boom boom boom\n",
      "read topic: 2_change_be_your_email\n"
     ]
    },
    {
     "output_type": "stream",
     "name": "stderr",
     "text": [
      "Extract software requirements candidates: 100%|██████████| 1/1 [00:00<00:00,  1.86it/s]\n",
      "Extract software requirements candidates: 100%|██████████| 2/2 [00:00<00:00,  2.39it/s]\n",
      "Extract software requirements candidates: 100%|██████████| 1/1 [00:00<00:00,  1.44it/s]\n"
     ]
    },
    {
     "output_type": "stream",
     "name": "stdout",
     "text": [
      "\ttext = We want to change the id of VK-506 to VK-503. This message would have been shown only if I change anything. That’s confusing. You can change your name, your profile picture, and your password\n",
      "\tsummarized = We want to change the id of VK-506 to VK-503. You can change your name, your profile picture, and your password\n",
      "read topic: 3_admin_upload_resources_to\n"
     ]
    },
    {
     "output_type": "stream",
     "name": "stderr",
     "text": [
      "Extract software requirements candidates: 100%|██████████| 1/1 [00:00<00:00,  1.89it/s]\n",
      "Extract software requirements candidates: 100%|██████████| 2/2 [00:00<00:00,  2.11it/s]\n",
      "Extract software requirements candidates: 100%|██████████| 1/1 [00:00<00:00,  1.18it/s]\n"
     ]
    },
    {
     "output_type": "stream",
     "name": "stdout",
     "text": [
      "\ttext = No the can’t do that at the moment. Also, can the Admin upload resources for a specific visit? Like just for the visit 2. I was wondering if it is possible to give this permission to the nurses as well\n",
      "\tomitted\n",
      "read topic: 4_the_parent_with_call\n"
     ]
    },
    {
     "output_type": "stream",
     "name": "stderr",
     "text": [
      "Extract software requirements candidates: 100%|██████████| 1/1 [00:00<00:00,  1.71it/s]\n",
      "Extract software requirements candidates: 100%|██████████| 1/1 [00:00<00:00,  1.33it/s]\n",
      "Extract software requirements candidates: 100%|██████████| 2/2 [00:00<00:00,  6.22it/s]\n"
     ]
    },
    {
     "output_type": "stream",
     "name": "stdout",
     "text": [
      "\ttext = Find the parent and assigning the study case to yourself:. Find the parent with the following babyname and take on the studycase to yourself. Parent. Yes, it does\n",
      "\tsummarized = Find the parent and assigning the study case to yourself:. Find the parent with the following babyname and take on the studycase to yourself\n",
      "read topic: 5_find_the_have_back\n"
     ]
    },
    {
     "output_type": "stream",
     "name": "stderr",
     "text": [
      "Extract software requirements candidates: 100%|██████████| 2/2 [00:02<00:00,  1.18s/it]\n",
      "Extract software requirements candidates: 100%|██████████| 2/2 [00:01<00:00,  1.01it/s]\n",
      "Extract software requirements candidates: 100%|██████████| 1/1 [00:00<00:00,  2.41it/s]\n"
     ]
    },
    {
     "output_type": "stream",
     "name": "stdout",
     "text": [
      "\ttext = I couldn't find the button forever and I was looking around like where is this thing. I think the little window here is very small and you have to like go back and forth up and down to like find it.. So I’ll give you a little bit of that so the question is to go back and look at where you might have. Hmm storage area in you three tabs on the right top. There’s a small icon the left\n",
      "\tsummarized = I couldn't find the button forever and I was looking around like where is this thing.. There’s a small icon the left\n",
      "read topic: 6_video_play_im_thinking\n"
     ]
    },
    {
     "output_type": "stream",
     "name": "stderr",
     "text": [
      "Extract software requirements candidates: 100%|██████████| 1/1 [00:00<00:00,  3.18it/s]\n",
      "Extract software requirements candidates: 100%|██████████| 2/2 [00:01<00:00,  1.52it/s]\n",
      "Extract software requirements candidates: 100%|██████████| 3/3 [00:02<00:00,  1.20it/s]\n"
     ]
    },
    {
     "output_type": "stream",
     "name": "stdout",
     "text": [
      "\ttext = Finding and opening a recorded video. You need to make sure that you are opening the video that is recorded by you. I think you did the 11:04 one.. I was trying to play the video for the Mom to see. I exited, refreshed, reloaded, and tried to replay, however it would not play past 1-2 min. I tried to pull the video forward manually but it would not play\n",
      "\tomitted\n",
      "read topic: 7_intervention_she_form_filling\n"
     ]
    },
    {
     "output_type": "stream",
     "name": "stderr",
     "text": [
      "Extract software requirements candidates: 100%|██████████| 3/3 [00:03<00:00,  1.26s/it]\n",
      "Extract software requirements candidates: 100%|██████████| 1/1 [00:00<00:00,  3.22it/s]\n",
      "Extract software requirements candidates: 100%|██████████| 1/1 [00:00<00:00,  1.04it/s]\n"
     ]
    },
    {
     "output_type": "stream",
     "name": "stdout",
     "text": [
      "\ttext = Opening an intervention form and filling it out - The nurse couldn’t find out where to open a new form. Although she noticed that it should be under charting but she couldn’t figure out she have to click on the drop down. It’s not clear to her and she would rather to see a label that says forms or something like that. Okay I found the intervention form. The intervention and social time on the intervention sheet is still not retaining the time I put in\n",
      "\tsummarized = It’s not clear to her and she would rather to see a label that says forms or something like that\n",
      "read topic: 8_nurse1_okay_oh_you\n"
     ]
    },
    {
     "output_type": "stream",
     "name": "stderr",
     "text": [
      "Extract software requirements candidates: 100%|██████████| 4/4 [00:01<00:00,  3.47it/s]\n",
      "Extract software requirements candidates: 100%|██████████| 2/2 [00:00<00:00,  9.30it/s]\n",
      "Extract software requirements candidates: 100%|██████████| 2/2 [00:00<00:00,  7.59it/s]"
     ]
    },
    {
     "output_type": "stream",
     "name": "stdout",
     "text": [
      "\ttext = Nurse1. Okay sounds good.  So let me take a look at my calendar here. When works for you?. Nurse1.  Oh okay. Nurse 1. Oh okay\n",
      "\tsummarized = So let me take a look at my calendar here.\n"
     ]
    },
    {
     "output_type": "stream",
     "name": "stderr",
     "text": [
      "\n"
     ]
    }
   ]
  }
 ]
}