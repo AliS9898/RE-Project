{
 "cells": [
  {
   "cell_type": "code",
   "execution_count": 169,
   "outputs": [
    {
     "name": "stdout",
     "output_type": "stream",
     "text": [
      "<class 'numpy.float32'>\n",
      "True\n",
      "False\n",
      "49920\n",
      "0.34324408\n"
     ]
    }
   ],
   "source": [
    "from sklearn.model_selection import train_test_split\n",
    "import pandas as pd\n",
    "import numpy as np\n",
    "\n",
    "df = pd.read_csv('data/trainingData.csv', sep=\",\", encoding='unicode_escape')\n",
    "X, y = df[['Sentence1','Sentence2']], df['Similarity Point'].astype('float32')\n",
    "\n",
    "X_train, X_test, y_train, y_test = train_test_split(X, y, test_size=0.30, random_state=42)\n",
    "\n",
    "haha = y_train[860]\n",
    "haha2 = float(y_train[860])\n",
    "print(type(haha))\n",
    "print('__getitem__' in dir(haha))\n",
    "print('__getitem__' in dir(haha2))\n",
    "print(len(y))\n",
    "print(haha)\n",
    "# i = 0\n",
    "# for item in y_train:\n",
    "#     # print(i, ':', np.isnan(item))\n",
    "#     # i += 1\n",
    "#     if np.isnan(item) == \"True\":\n",
    "#         print(i, ':', item)\n",
    "#         i += 1"
   ],
   "metadata": {
    "collapsed": false,
    "pycharm": {
     "name": "#%%\n"
    }
   }
  },
  {
   "cell_type": "code",
   "execution_count": 170,
   "outputs": [
    {
     "name": "stderr",
     "output_type": "stream",
     "text": [
      "C:\\Users\\salma\\Desktop\\AcademicResearchSite\\venv\\lib\\site-packages\\transformers\\optimization.py:306: FutureWarning: This implementation of AdamW is deprecated and will be removed in a future version. Use the PyTorch implementation torch.optim.AdamW instead, or set `no_deprecation_warning=True` to disable this warning\n",
      "  warnings.warn(\n"
     ]
    },
    {
     "data": {
      "text/plain": "Epoch:   0%|          | 0/1 [00:00<?, ?it/s]",
      "application/vnd.jupyter.widget-view+json": {
       "version_major": 2,
       "version_minor": 0,
       "model_id": "d8735d3d85324b37a9940acfc29d3271"
      },
      "application/json": {
       "n": 0,
       "total": 1,
       "elapsed": 0.0118408203125,
       "ncols": null,
       "nrows": null,
       "prefix": "Epoch",
       "ascii": false,
       "unit": "it",
       "unit_scale": false,
       "rate": null,
       "bar_format": null,
       "postfix": null,
       "unit_divisor": 1000,
       "initial": 0,
       "colour": null
      }
     },
     "metadata": {},
     "output_type": "display_data"
    },
    {
     "data": {
      "text/plain": "Iteration:   0%|          | 0/1526 [00:00<?, ?it/s]",
      "application/vnd.jupyter.widget-view+json": {
       "version_major": 2,
       "version_minor": 0,
       "model_id": "1a73a023806848fe8910b74b678a9ed6"
      },
      "application/json": {
       "n": 0,
       "total": 1526,
       "elapsed": 0.020884037017822266,
       "ncols": null,
       "nrows": null,
       "prefix": "Iteration",
       "ascii": false,
       "unit": "it",
       "unit_scale": false,
       "rate": null,
       "bar_format": null,
       "postfix": null,
       "unit_divisor": 1000,
       "initial": 0,
       "colour": null
      }
     },
     "metadata": {},
     "output_type": "display_data"
    }
   ],
   "source": [
    "from sentence_transformers import SentenceTransformer, InputExample, losses\n",
    "from torch.utils.data import DataLoader\n",
    "\n",
    "model = SentenceTransformer('distilbert-base-nli-mean-tokens', device='cpu')\n",
    "\n",
    "train_examples = []\n",
    "for i in range(len(y_train)):\n",
    "    if i in y_train:\n",
    "        inp = InputExample(texts=[X_train['Sentence1'][i], X_train['Sentence2'][i]], label=float(y_train[i].item()))\n",
    "        train_examples.append(inp)\n",
    "\n",
    "train_dataloader = DataLoader(train_examples, shuffle=True, batch_size=16)\n",
    "train_loss = losses.CosineSimilarityLoss(model)\n",
    "\n",
    "model.fit(train_objectives=[(train_dataloader, train_loss)], epochs=1, warmup_steps=100, output_path='model')"
   ],
   "metadata": {
    "collapsed": false,
    "pycharm": {
     "name": "#%%\n"
    }
   }
  }
 ],
 "metadata": {
  "kernelspec": {
   "display_name": "Python 3",
   "language": "python",
   "name": "python3"
  },
  "language_info": {
   "codemirror_mode": {
    "name": "ipython",
    "version": 2
   },
   "file_extension": ".py",
   "mimetype": "text/x-python",
   "name": "python",
   "nbconvert_exporter": "python",
   "pygments_lexer": "ipython2",
   "version": "2.7.6"
  }
 },
 "nbformat": 4,
 "nbformat_minor": 0
}